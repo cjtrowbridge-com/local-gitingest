{
 "cells": [
  {
   "cell_type": "markdown",
   "id": "39df0f05",
   "metadata": {},
   "source": [
    "# Git Repository Digest Notebook 🗃️➡️📝\n",
    "\n",
    "This notebook clones **any Git repository you can reach on your network**—whether it’s a GitHub repo, a bare URL to a Git service on your homelab, or even a `file://` path—then runs **gitingest** to produce a compact, prompt‑friendly Markdown digest.\n",
    "\n",
    "The digest is cached in a deterministic path so that the same URL always maps to the same file:\n",
    "\n",
    "```\n",
    "http://dockerserver:8929/cjtrowbridge/memes  →  cache/dockerserver.8929/cjtrowbridge/memes/ingest.md\n",
    "https://github.com/cjtrowbridge/memes        →  cache/github.com/cjtrowbridge/memes/ingest.md\n",
    "```\n",
    "\n",
    "Feel free to tweak defaults (e.g. token cut‑offs, binary filters) by passing flags to `gitingest` in the final cell.\n"
   ]
  },
  {
   "cell_type": "code",
   "execution_count": 1,
   "id": "9e853fdd",
   "metadata": {},
   "outputs": [
    {
     "name": "stdout",
     "output_type": "stream",
     "text": [
      "Note: you may need to restart the kernel to use updated packages.\n"
     ]
    },
    {
     "name": "stderr",
     "output_type": "stream",
     "text": [
      "\n",
      "[notice] A new release of pip is available: 23.2.1 -> 25.1.1\n",
      "[notice] To update, run: python.exe -m pip install --upgrade pip\n"
     ]
    }
   ],
   "source": [
    "# --- Install dependencies ----------------------------------------------------\n",
    "# Run once; comment out after first successful install if you prefer faster start‑ups.\n",
    "%pip install --quiet gitingest gitpython\n"
   ]
  },
  {
   "cell_type": "code",
   "execution_count": 2,
   "id": "4e90ac98",
   "metadata": {},
   "outputs": [],
   "source": [
    "import os, subprocess, urllib.parse, pathlib, tempfile, shutil, sys\n",
    "\n",
    "def _sanitize_netloc(netloc: str) -> str:\n",
    "    \"\"\"Replace ':' (port separator) with '.' so the path is filesystem‑safe.\"\"\"\n",
    "    return netloc.replace(\":\", \".\")\n",
    "\n",
    "def cache_path_from_url(url: str) -> pathlib.Path:\n",
    "    \"\"\"Map any URL or file path to a cache directory path.\"\"\"\n",
    "    if url.startswith(\"file://\"):\n",
    "        local_path = pathlib.Path(urllib.parse.urlparse(url).path).resolve()\n",
    "        parts = local_path.parts[1:]  # drop leading '/'\n",
    "        return pathlib.Path(\"cache\").joinpath(*parts)\n",
    "    parsed = urllib.parse.urlparse(url)\n",
    "    netloc = _sanitize_netloc(parsed.netloc)\n",
    "    rel_path = parsed.path.lstrip(\"/\")\n",
    "    return pathlib.Path(\"cache\").joinpath(netloc, rel_path)\n"
   ]
  },
  {
   "cell_type": "code",
   "execution_count": 3,
   "id": "e1ad30da",
   "metadata": {},
   "outputs": [
    {
     "name": "stdout",
     "output_type": "stream",
     "text": [
      "Repo: http://docker-logic:8929/cjtrowbridge/memes.cjtrowbridge.com\n"
     ]
    }
   ],
   "source": [
    "# --- Enter the repository URL -------------------------------------------------\n",
    "git_url = input(\"🔗 Enter Git repository URL (can be http/https, ssh, or file://): \").strip()\n",
    "if not git_url:\n",
    "    sys.exit(\"No URL provided — aborting.\")\n",
    "print(\"Repo:\", git_url)\n"
   ]
  },
  {
   "cell_type": "code",
   "execution_count": 4,
   "id": "184f675e",
   "metadata": {},
   "outputs": [
    {
     "name": "stdout",
     "output_type": "stream",
     "text": [
      "Digest will be saved to: cache\\docker-logic.8929\\cjtrowbridge\\memes.cjtrowbridge.com\\ingest.md\n"
     ]
    }
   ],
   "source": [
    "out_dir = cache_path_from_url(git_url)\n",
    "out_dir.mkdir(parents=True, exist_ok=True)\n",
    "output_file = out_dir / \"ingest.md\"\n",
    "print(\"Digest will be saved to:\", output_file)\n"
   ]
  },
  {
   "cell_type": "code",
   "execution_count": 5,
   "id": "5744c1ff",
   "metadata": {},
   "outputs": [
    {
     "name": "stdout",
     "output_type": "stream",
     "text": [
      "⏳ Cloning…\n"
     ]
    }
   ],
   "source": [
    "# --- Clone + ingest -----------------------------------------------------------\n",
    "with tempfile.TemporaryDirectory() as tmpdir:\n",
    "    print(\"⏳ Cloning…\")\n",
    "    subprocess.run([\"git\", \"clone\", \"--depth\", \"1\", git_url, tmpdir], check=True)\n",
    "    print(\"✅ Clone done.\")\n",
    "    print(\"⏳ Running gitingest…\")\n",
    "    subprocess.run([\"gitingest\", tmpdir, \"-o\", str(output_file)], check=True)\n",
    "    print(\"✅ Digest written to\", output_file)\n"
   ]
  }
 ],
 "metadata": {
  "kernelspec": {
   "display_name": "Python 3",
   "language": "python",
   "name": "python3"
  },
  "language_info": {
   "codemirror_mode": {
    "name": "ipython",
    "version": 3
   },
   "file_extension": ".py",
   "mimetype": "text/x-python",
   "name": "python",
   "nbconvert_exporter": "python",
   "pygments_lexer": "ipython3",
   "version": "3.12.0"
  }
 },
 "nbformat": 4,
 "nbformat_minor": 5
}
